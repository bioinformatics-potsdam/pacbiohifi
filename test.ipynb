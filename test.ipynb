{
 "cells": [
  {
   "cell_type": "code",
   "id": "initial_id",
   "metadata": {
    "collapsed": true,
    "ExecuteTime": {
     "end_time": "2024-05-07T08:55:05.869333Z",
     "start_time": "2024-05-07T08:55:05.859258Z"
    }
   },
   "source": [
    "readfastq = [i.strip() for i in open(\"/home/gauravsablok/Desktop/gauravrep/streamlit-pacbiohifi/samplepacbiohifi.fastq\", \"r\").readlines()]\n",
    "fastq_dict = {}\n",
    "for i in range(len(readfastq)):\n",
    "    if readfastq[i].startswith(\"@\"):\n",
    "        fastq_dict[readfastq[i]] = readfastq[i+1]"
   ],
   "outputs": [],
   "execution_count": 19
  },
  {
   "metadata": {
    "ExecuteTime": {
     "end_time": "2024-05-07T09:32:59.418531Z",
     "start_time": "2024-05-07T09:32:59.416284Z"
    }
   },
   "cell_type": "code",
   "source": "fastq_ids = list(fastq_dict.keys())",
   "id": "62670aba3655dceb",
   "outputs": [],
   "execution_count": 42
  },
  {
   "metadata": {},
   "cell_type": "code",
   "source": "fastq_ids",
   "id": "ab94f7df53a49361",
   "outputs": [],
   "execution_count": null
  },
  {
   "metadata": {
    "ExecuteTime": {
     "end_time": "2024-05-07T09:15:45.879304Z",
     "start_time": "2024-05-07T09:15:45.874408Z"
    }
   },
   "cell_type": "code",
   "source": "fastq_sequences = list(fastq_dict.values())",
   "id": "f31ab24578eada1b",
   "outputs": [],
   "execution_count": 22
  },
  {
   "metadata": {
    "ExecuteTime": {
     "end_time": "2024-05-07T09:17:42.531568Z",
     "start_time": "2024-05-07T09:17:42.527223Z"
    }
   },
   "cell_type": "code",
   "source": "fastq_length = list(map(lambda n: len(n), fastq_sequences))",
   "id": "5ed8b0061c325933",
   "outputs": [],
   "execution_count": 30
  },
  {
   "metadata": {
    "ExecuteTime": {
     "end_time": "2024-05-07T09:17:11.595482Z",
     "start_time": "2024-05-07T09:17:10.881814Z"
    }
   },
   "cell_type": "code",
   "source": "import pandas as pd",
   "id": "9e22e88ddc95eabb",
   "outputs": [],
   "execution_count": 25
  },
  {
   "metadata": {
    "ExecuteTime": {
     "end_time": "2024-05-07T09:17:45.202193Z",
     "start_time": "2024-05-07T09:17:45.178498Z"
    }
   },
   "cell_type": "code",
   "source": "pd.DataFrame(fastq_length, columns=[\"PacbioHifi Length\"])",
   "id": "8597d4834375df04",
   "outputs": [
    {
     "data": {
      "text/plain": [
       "   PacbioHifi Length\n",
       "0              21256\n",
       "1               2288"
      ],
      "text/html": [
       "<div>\n",
       "<style scoped>\n",
       "    .dataframe tbody tr th:only-of-type {\n",
       "        vertical-align: middle;\n",
       "    }\n",
       "\n",
       "    .dataframe tbody tr th {\n",
       "        vertical-align: top;\n",
       "    }\n",
       "\n",
       "    .dataframe thead th {\n",
       "        text-align: right;\n",
       "    }\n",
       "</style>\n",
       "<table border=\"1\" class=\"dataframe\">\n",
       "  <thead>\n",
       "    <tr style=\"text-align: right;\">\n",
       "      <th></th>\n",
       "      <th>PacbioHifi Length</th>\n",
       "    </tr>\n",
       "  </thead>\n",
       "  <tbody>\n",
       "    <tr>\n",
       "      <th>0</th>\n",
       "      <td>21256</td>\n",
       "    </tr>\n",
       "    <tr>\n",
       "      <th>1</th>\n",
       "      <td>2288</td>\n",
       "    </tr>\n",
       "  </tbody>\n",
       "</table>\n",
       "</div>"
      ]
     },
     "execution_count": 31,
     "metadata": {},
     "output_type": "execute_result"
    }
   ],
   "execution_count": 31
  },
  {
   "metadata": {
    "ExecuteTime": {
     "end_time": "2024-05-07T09:17:57.670874Z",
     "start_time": "2024-05-07T09:17:57.353721Z"
    }
   },
   "cell_type": "code",
   "source": "import streamlit as st",
   "id": "ef3d8e77d23f6cff",
   "outputs": [],
   "execution_count": 32
  },
  {
   "metadata": {},
   "cell_type": "code",
   "source": "st.bar_chart(pd.DataFrame(fastq_length, columns=[\"PacbioHifi Length\"]))",
   "id": "9e0679adb56ccec9",
   "outputs": [],
   "execution_count": null
  },
  {
   "metadata": {
    "ExecuteTime": {
     "end_time": "2024-05-07T09:36:54.443635Z",
     "start_time": "2024-05-07T09:36:54.439279Z"
    }
   },
   "cell_type": "code",
   "source": [
    "with open(\"/home/gauravsablok/Desktop/gauravrep/streamlit-pacbiohifi/samplepacbiohifi.fasta\", \"w\") as file:\n",
    "    for i in range(len(fastq_ids)):\n",
    "        file.write(f\">{fastq_ids[i]}\\n{fastq_sequences[i]}\\n\")"
   ],
   "id": "84761a2237f3f5b0",
   "outputs": [],
   "execution_count": 55
  },
  {
   "metadata": {},
   "cell_type": "code",
   "outputs": [],
   "execution_count": null,
   "source": "",
   "id": "e20eafebd5f5fbf0"
  }
 ],
 "metadata": {
  "kernelspec": {
   "display_name": "Python 3",
   "language": "python",
   "name": "python3"
  },
  "language_info": {
   "codemirror_mode": {
    "name": "ipython",
    "version": 2
   },
   "file_extension": ".py",
   "mimetype": "text/x-python",
   "name": "python",
   "nbconvert_exporter": "python",
   "pygments_lexer": "ipython2",
   "version": "2.7.6"
  }
 },
 "nbformat": 4,
 "nbformat_minor": 5
}
